{
 "cells": [
  {
   "cell_type": "markdown",
   "id": "11a21b80-2878-4bb5-9c8e-af50f042876d",
   "metadata": {},
   "source": [
    "## Case Studies\n",
    "This notebook contains case studies illustrating the SyntheticData Class in synthetic.py</br></br>\n",
    "JDL / Data Delve LLC, August 17, 2023"
   ]
  },
  {
   "cell_type": "code",
   "execution_count": 1,
   "id": "67551529-ab8f-4218-8e39-4cd86c06a495",
   "metadata": {},
   "outputs": [],
   "source": [
    "import pandas as pd\n",
    "import numpy as np\n",
    "from synthetic import SyntheticExpt"
   ]
  },
  {
   "cell_type": "markdown",
   "id": "bb97a4e8-1f64-4075-9345-500a91eb066b",
   "metadata": {},
   "source": [
    "### Case Study 1000 Batches\n",
    "With a large number of batches and only random variation for each degree of freedom, the measurement's standard deviation should approach the sum of squared standard deviations.  With `var_fracs_dof = 0.02, 0.03 and 0.05`, this is 6.16% of the 400 cps xbarbar. This notebook generates data to check this using JMP analysis. "
   ]
  },
  {
   "cell_type": "code",
   "execution_count": 2,
   "id": "3df85fd9-a0d4-4e40-8cb1-e40abd7707cb",
   "metadata": {},
   "outputs": [],
   "source": [
    "#Specify measurement grand mean (viscosity in centipoise)\n",
    "xbarbar = 400\n",
    "sig_digits = 1\n",
    "meas = 'viscosity_cps'\n",
    "\n",
    "#Define degrees of freedom, their number of levels and their variability as fraction of mean\n",
    "nms_dof = ['batch', 'within batch', 'lab']\n",
    "n_levels_dof = dict(zip(nms_dof, [1000, 3, 2]))\n",
    "var_fracs_dof = dict(zip(nms_dof, [0.02, 0.03, 0.05]))"
   ]
  },
  {
   "cell_type": "code",
   "execution_count": 4,
   "id": "be925811-b215-444c-bfdf-8b4e5b0d967d",
   "metadata": {},
   "outputs": [
    {
     "data": {
      "text/plain": [
       "(['batch', 'within batch', 'lab'],\n",
       " {'batch': 1000, 'within batch': 3, 'lab': 2},\n",
       " {'batch': 0.02, 'within batch': 0.03, 'lab': 0.05},\n",
       " {},\n",
       " {})"
      ]
     },
     "execution_count": 4,
     "metadata": {},
     "output_type": "execute_result"
    }
   ],
   "source": [
    "# User-specified lvl_val names and effects calculated from formulation model (as frac of mean)\n",
    "lvl_vals, lvl_effects = {}, {}\n",
    "\n",
    "nms_dof, n_levels_dof, var_fracs_dof, lvl_vals, lvl_effects"
   ]
  },
  {
   "cell_type": "code",
   "execution_count": 5,
   "id": "0dfbe393-b7fb-4a4f-b278-c64b10434321",
   "metadata": {},
   "outputs": [],
   "source": [
    "expt = SyntheticExpt(10000, \n",
    "                     xbarbar=xbarbar, \n",
    "                     names=nms_dof, \n",
    "                     n_levels=n_levels_dof,\n",
    "                     var_fracs=var_fracs_dof,\n",
    "                     lvl_val_names=lvl_vals,\n",
    "                     lvl_val_effects=lvl_effects,\n",
    "                     digits=sig_digits,\n",
    "                     meas_nm=meas)\n",
    "expt.create_experiment_procedure()"
   ]
  },
  {
   "cell_type": "code",
   "execution_count": 7,
   "id": "ded4a3a3-dbc1-4c2f-aa16-e616564c7c10",
   "metadata": {},
   "outputs": [],
   "source": [
    "#Output to Excel -- add a simulation run label to track results from multiple sims\n",
    "df = expt.df_expt.copy()\n",
    "df['sim_run'] = '1000-3-2 Sampling'\n",
    "df.to_excel('case_study_1000batches.xlsx', index=False)"
   ]
  },
  {
   "cell_type": "code",
   "execution_count": null,
   "id": "eecc2a60-2f52-47d2-ae45-c5e0fa6bb6e0",
   "metadata": {},
   "outputs": [],
   "source": []
  }
 ],
 "metadata": {
  "kernelspec": {
   "display_name": "Python 3",
   "language": "python",
   "name": "python3"
  },
  "language_info": {
   "codemirror_mode": {
    "name": "ipython",
    "version": 3
   },
   "file_extension": ".py",
   "mimetype": "text/x-python",
   "name": "python",
   "nbconvert_exporter": "python",
   "pygments_lexer": "ipython3",
   "version": "3.8.8"
  }
 },
 "nbformat": 4,
 "nbformat_minor": 5
}
