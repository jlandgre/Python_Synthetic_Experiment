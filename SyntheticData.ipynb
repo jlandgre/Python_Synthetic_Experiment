{
 "cells": [
  {
   "cell_type": "markdown",
   "id": "a66893ff-7c86-4af3-bfa4-3a0e289a1b5b",
   "metadata": {},
   "source": [
    "## Generate Synthetic Data\n",
    "Many data sources are naturally normally distributed or close to that. To efficiently generate simulated data, points can be randomly sampled from a seed distribution having a mean of 0.0 and standard deviation of 1.0. The sampled points can then be scaled by a specified standard deviation and corrected to a specified mean. The Python Class below is useful for generating such simulated data sets.\n",
    "\n",
    "JDL 8/7/23"
   ]
  },
  {
   "cell_type": "code",
   "execution_count": 1,
   "id": "0e729121-2330-4e1f-952e-8971c77a55c5",
   "metadata": {},
   "outputs": [],
   "source": [
    "import pandas as pd\n",
    "import numpy as np"
   ]
  },
  {
   "cell_type": "code",
   "execution_count": 18,
   "id": "b37b8086-d31d-4b89-b6dd-f381c81e0dff",
   "metadata": {},
   "outputs": [],
   "source": [
    "class SyntheticData:\n",
    "    \"\"\"\n",
    "    This class generates normally-distributed synthetic data for simulations\n",
    "    JDL 8/7/23\n",
    "    \"\"\"\n",
    "    def __init__(self, len_seed_dist):\n",
    "        \n",
    "        #Generate a seed distribution of normally distributed data\n",
    "        self.dist_seed_normal = pd.Series(np.random.normal(loc=0.0, scale=1.0, size=len_seed_dist))\n",
    "        self.dist_seed_normal.name = \"dist_seed_normal\"\n",
    "        \n",
    "        #Synthetic Data\n",
    "        self.df_data = None\n",
    "    \n",
    "    def scaled_val(self, mean, sdev):\n",
    "        \"\"\"\n",
    "        Pick a random val from seed distribution\n",
    "        \"\"\"\n",
    "        idx = np.random.choice(self.dist_seed_normal.index)\n",
    "        return mean + (self.dist_seed_normal[idx] * sdev)\n",
    "    \n",
    "    def gen_synthetic_data(self, len_data, mean, sdev, digits):\n",
    "        \"\"\"\n",
    "        Generate a specified number of data points with specified mean and standard deviation\n",
    "        \"\"\"\n",
    "        self.df_data = pd.DataFrame(index=range(len_data))\n",
    "        self.df_data['vals'] = np.nan\n",
    "        self.df_data['vals'] = self.df_data.apply(lambda row: self.scaled_val(mean, sdev), axis=1)\n",
    "        self.df_data['vals'] = self.df_data['vals'].round(digits)"
   ]
  },
  {
   "cell_type": "code",
   "execution_count": 19,
   "id": "8d323f56-b0aa-433b-8a48-f2a157be7594",
   "metadata": {},
   "outputs": [],
   "source": [
    "sdata = SyntheticData(10000)"
   ]
  },
  {
   "cell_type": "markdown",
   "id": "4c5e7a25-8b61-4ddd-a787-9aa5cd5df8cb",
   "metadata": {},
   "source": [
    "### Example: Generate Simulated Density Data"
   ]
  },
  {
   "cell_type": "code",
   "execution_count": 39,
   "id": "8c57b552-456e-4951-9645-cf4875be3aee",
   "metadata": {},
   "outputs": [
    {
     "data": {
      "text/html": [
       "<div>\n",
       "<style scoped>\n",
       "    .dataframe tbody tr th:only-of-type {\n",
       "        vertical-align: middle;\n",
       "    }\n",
       "\n",
       "    .dataframe tbody tr th {\n",
       "        vertical-align: top;\n",
       "    }\n",
       "\n",
       "    .dataframe thead th {\n",
       "        text-align: right;\n",
       "    }\n",
       "</style>\n",
       "<table border=\"1\" class=\"dataframe\">\n",
       "  <thead>\n",
       "    <tr style=\"text-align: right;\">\n",
       "      <th></th>\n",
       "      <th>vals</th>\n",
       "    </tr>\n",
       "  </thead>\n",
       "  <tbody>\n",
       "    <tr>\n",
       "      <th>0</th>\n",
       "      <td>1.106</td>\n",
       "    </tr>\n",
       "    <tr>\n",
       "      <th>1</th>\n",
       "      <td>1.023</td>\n",
       "    </tr>\n",
       "    <tr>\n",
       "      <th>2</th>\n",
       "      <td>1.104</td>\n",
       "    </tr>\n",
       "    <tr>\n",
       "      <th>3</th>\n",
       "      <td>1.052</td>\n",
       "    </tr>\n",
       "    <tr>\n",
       "      <th>4</th>\n",
       "      <td>1.023</td>\n",
       "    </tr>\n",
       "    <tr>\n",
       "      <th>5</th>\n",
       "      <td>1.061</td>\n",
       "    </tr>\n",
       "    <tr>\n",
       "      <th>6</th>\n",
       "      <td>1.065</td>\n",
       "    </tr>\n",
       "    <tr>\n",
       "      <th>7</th>\n",
       "      <td>1.065</td>\n",
       "    </tr>\n",
       "    <tr>\n",
       "      <th>8</th>\n",
       "      <td>1.050</td>\n",
       "    </tr>\n",
       "    <tr>\n",
       "      <th>9</th>\n",
       "      <td>1.058</td>\n",
       "    </tr>\n",
       "    <tr>\n",
       "      <th>10</th>\n",
       "      <td>1.021</td>\n",
       "    </tr>\n",
       "    <tr>\n",
       "      <th>11</th>\n",
       "      <td>1.082</td>\n",
       "    </tr>\n",
       "    <tr>\n",
       "      <th>12</th>\n",
       "      <td>1.066</td>\n",
       "    </tr>\n",
       "    <tr>\n",
       "      <th>13</th>\n",
       "      <td>1.100</td>\n",
       "    </tr>\n",
       "    <tr>\n",
       "      <th>14</th>\n",
       "      <td>1.051</td>\n",
       "    </tr>\n",
       "    <tr>\n",
       "      <th>15</th>\n",
       "      <td>1.086</td>\n",
       "    </tr>\n",
       "    <tr>\n",
       "      <th>16</th>\n",
       "      <td>1.110</td>\n",
       "    </tr>\n",
       "    <tr>\n",
       "      <th>17</th>\n",
       "      <td>1.083</td>\n",
       "    </tr>\n",
       "    <tr>\n",
       "      <th>18</th>\n",
       "      <td>1.058</td>\n",
       "    </tr>\n",
       "    <tr>\n",
       "      <th>19</th>\n",
       "      <td>1.125</td>\n",
       "    </tr>\n",
       "  </tbody>\n",
       "</table>\n",
       "</div>"
      ],
      "text/plain": [
       "     vals\n",
       "0   1.106\n",
       "1   1.023\n",
       "2   1.104\n",
       "3   1.052\n",
       "4   1.023\n",
       "5   1.061\n",
       "6   1.065\n",
       "7   1.065\n",
       "8   1.050\n",
       "9   1.058\n",
       "10  1.021\n",
       "11  1.082\n",
       "12  1.066\n",
       "13  1.100\n",
       "14  1.051\n",
       "15  1.086\n",
       "16  1.110\n",
       "17  1.083\n",
       "18  1.058\n",
       "19  1.125"
      ]
     },
     "execution_count": 39,
     "metadata": {},
     "output_type": "execute_result"
    }
   ],
   "source": [
    "rho_mean, rho_sd = 1.08, 0.03\n",
    "n_rho_data = 20\n",
    "\n",
    "sdata.gen_synthetic_data(n_rho_data, rho_mean, rho_sd, 3)\n",
    "df_density = sdata.df_data\n",
    "df_density"
   ]
  },
  {
   "cell_type": "code",
   "execution_count": 45,
   "id": "b742171f-2d97-40f9-85cd-88709b7acef7",
   "metadata": {},
   "outputs": [
    {
     "name": "stdout",
     "output_type": "stream",
     "text": [
      "Mean, StdDevn, Min, Max\n"
     ]
    },
    {
     "data": {
      "text/plain": [
       "(1.06945, 0.0298, 1.021, 1.125)"
      ]
     },
     "execution_count": 45,
     "metadata": {},
     "output_type": "execute_result"
    }
   ],
   "source": [
    "print('Mean, StdDevn, Min, Max')\n",
    "df_density.mean()[0], round(df_density.std()[0],4), df_density.min()[0], df_density.max()[0]"
   ]
  },
  {
   "cell_type": "code",
   "execution_count": null,
   "id": "59ddcfa4-e86b-4166-9173-622e74c47311",
   "metadata": {},
   "outputs": [],
   "source": []
  }
 ],
 "metadata": {
  "kernelspec": {
   "display_name": "Python 3",
   "language": "python",
   "name": "python3"
  },
  "language_info": {
   "codemirror_mode": {
    "name": "ipython",
    "version": 3
   },
   "file_extension": ".py",
   "mimetype": "text/x-python",
   "name": "python",
   "nbconvert_exporter": "python",
   "pygments_lexer": "ipython3",
   "version": "3.8.8"
  }
 },
 "nbformat": 4,
 "nbformat_minor": 5
}
