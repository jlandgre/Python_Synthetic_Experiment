{
 "cells": [
  {
   "cell_type": "code",
   "execution_count": 1,
   "id": "203a7710-cfbb-4f8b-aa8c-9e410712d3ce",
   "metadata": {},
   "outputs": [],
   "source": [
    "import pandas as pd\n",
    "import numpy as np\n",
    "from synthetic import SyntheticData"
   ]
  },
  {
   "cell_type": "code",
   "execution_count": 2,
   "id": "635cc147-fcf6-42cf-80fa-000126729af2",
   "metadata": {},
   "outputs": [],
   "source": [
    "#Instance a Synthetic Data Class with 10,000 point seed distribution\n",
    "sdata = SyntheticData(10000)"
   ]
  },
  {
   "cell_type": "markdown",
   "id": "ae1bb35f-a4d0-4d1f-bfde-ee2c446ca5f4",
   "metadata": {},
   "source": [
    "## Simulated Experiment - Level 3/synthetic.py Version\n",
    "This mimics the functionality in previous section but uses the `SyntheticData` Class in `synthetic.py` library."
   ]
  },
  {
   "cell_type": "markdown",
   "id": "29c49afa-6499-4587-ab6b-1c27ba40abfd",
   "metadata": {},
   "source": [
    "#### Define Degrees of Freedom for Measurement Variability"
   ]
  },
  {
   "cell_type": "code",
   "execution_count": 3,
   "id": "31a8ba19-84cb-4b5f-af43-c8927e364f71",
   "metadata": {},
   "outputs": [
    {
     "data": {
      "text/plain": [
       "(['batch-to-batch', 'within batch', 'lab'],\n",
       " {'batch-to-batch': 2, 'within batch': 3, 'lab': 2},\n",
       " {'batch-to-batch': 0.05, 'within batch': 0.03, 'lab': 0.02})"
      ]
     },
     "execution_count": 3,
     "metadata": {},
     "output_type": "execute_result"
    }
   ],
   "source": [
    "xbarbar = 1.10\n",
    "sig_digits = 4\n",
    "\n",
    "#Define degrees of freedom, their number of levels and their variability as fraction of mean\n",
    "names = ['batch-to-batch', 'within batch', 'lab']\n",
    "n_levels = dict(zip(names, [2, 3, 2]))\n",
    "var_fracs = dict(zip(names, [0.05, 0.03, 0.02]))\n",
    "  \n",
    "names, n_levels, var_fracs"
   ]
  },
  {
   "cell_type": "code",
   "execution_count": 4,
   "id": "0756a05e-7521-4525-aff0-14a881fad12c",
   "metadata": {},
   "outputs": [
    {
     "data": {
      "text/html": [
       "<div>\n",
       "<style scoped>\n",
       "    .dataframe tbody tr th:only-of-type {\n",
       "        vertical-align: middle;\n",
       "    }\n",
       "\n",
       "    .dataframe tbody tr th {\n",
       "        vertical-align: top;\n",
       "    }\n",
       "\n",
       "    .dataframe thead th {\n",
       "        text-align: right;\n",
       "    }\n",
       "</style>\n",
       "<table border=\"1\" class=\"dataframe\">\n",
       "  <thead>\n",
       "    <tr style=\"text-align: right;\">\n",
       "      <th></th>\n",
       "      <th>level_batch-to-batch</th>\n",
       "      <th>devns_batch-to-batch</th>\n",
       "      <th>lvl_effects_batch-to-batch</th>\n",
       "      <th>level_within batch</th>\n",
       "      <th>devns_within batch</th>\n",
       "      <th>lvl_effects_within batch</th>\n",
       "      <th>level_lab</th>\n",
       "      <th>devns_lab</th>\n",
       "      <th>lvl_effects_lab</th>\n",
       "      <th>sim_meas</th>\n",
       "    </tr>\n",
       "  </thead>\n",
       "  <tbody>\n",
       "    <tr>\n",
       "      <th>0</th>\n",
       "      <td>1</td>\n",
       "      <td>0.0178</td>\n",
       "      <td>0.0</td>\n",
       "      <td>1</td>\n",
       "      <td>-0.0007</td>\n",
       "      <td>0.0</td>\n",
       "      <td>1</td>\n",
       "      <td>0.0237</td>\n",
       "      <td>0.0</td>\n",
       "      <td>1.1408</td>\n",
       "    </tr>\n",
       "    <tr>\n",
       "      <th>1</th>\n",
       "      <td>1</td>\n",
       "      <td>0.0178</td>\n",
       "      <td>0.0</td>\n",
       "      <td>1</td>\n",
       "      <td>-0.0007</td>\n",
       "      <td>0.0</td>\n",
       "      <td>2</td>\n",
       "      <td>0.0008</td>\n",
       "      <td>0.0</td>\n",
       "      <td>1.1179</td>\n",
       "    </tr>\n",
       "    <tr>\n",
       "      <th>2</th>\n",
       "      <td>1</td>\n",
       "      <td>0.0178</td>\n",
       "      <td>0.0</td>\n",
       "      <td>2</td>\n",
       "      <td>0.0215</td>\n",
       "      <td>0.0</td>\n",
       "      <td>1</td>\n",
       "      <td>0.0523</td>\n",
       "      <td>0.0</td>\n",
       "      <td>1.1916</td>\n",
       "    </tr>\n",
       "    <tr>\n",
       "      <th>3</th>\n",
       "      <td>1</td>\n",
       "      <td>0.0178</td>\n",
       "      <td>0.0</td>\n",
       "      <td>2</td>\n",
       "      <td>0.0215</td>\n",
       "      <td>0.0</td>\n",
       "      <td>2</td>\n",
       "      <td>0.0297</td>\n",
       "      <td>0.0</td>\n",
       "      <td>1.1690</td>\n",
       "    </tr>\n",
       "    <tr>\n",
       "      <th>4</th>\n",
       "      <td>1</td>\n",
       "      <td>0.0178</td>\n",
       "      <td>0.0</td>\n",
       "      <td>3</td>\n",
       "      <td>-0.0479</td>\n",
       "      <td>0.0</td>\n",
       "      <td>1</td>\n",
       "      <td>0.0269</td>\n",
       "      <td>0.0</td>\n",
       "      <td>1.0968</td>\n",
       "    </tr>\n",
       "    <tr>\n",
       "      <th>5</th>\n",
       "      <td>1</td>\n",
       "      <td>0.0178</td>\n",
       "      <td>0.0</td>\n",
       "      <td>3</td>\n",
       "      <td>-0.0479</td>\n",
       "      <td>0.0</td>\n",
       "      <td>2</td>\n",
       "      <td>0.0017</td>\n",
       "      <td>0.0</td>\n",
       "      <td>1.0716</td>\n",
       "    </tr>\n",
       "    <tr>\n",
       "      <th>6</th>\n",
       "      <td>2</td>\n",
       "      <td>0.0925</td>\n",
       "      <td>0.0</td>\n",
       "      <td>1</td>\n",
       "      <td>-0.0073</td>\n",
       "      <td>0.0</td>\n",
       "      <td>1</td>\n",
       "      <td>-0.0009</td>\n",
       "      <td>0.0</td>\n",
       "      <td>1.1843</td>\n",
       "    </tr>\n",
       "    <tr>\n",
       "      <th>7</th>\n",
       "      <td>2</td>\n",
       "      <td>0.0925</td>\n",
       "      <td>0.0</td>\n",
       "      <td>1</td>\n",
       "      <td>-0.0073</td>\n",
       "      <td>0.0</td>\n",
       "      <td>2</td>\n",
       "      <td>0.0077</td>\n",
       "      <td>0.0</td>\n",
       "      <td>1.1929</td>\n",
       "    </tr>\n",
       "    <tr>\n",
       "      <th>8</th>\n",
       "      <td>2</td>\n",
       "      <td>0.0925</td>\n",
       "      <td>0.0</td>\n",
       "      <td>2</td>\n",
       "      <td>0.0188</td>\n",
       "      <td>0.0</td>\n",
       "      <td>1</td>\n",
       "      <td>-0.0103</td>\n",
       "      <td>0.0</td>\n",
       "      <td>1.2010</td>\n",
       "    </tr>\n",
       "    <tr>\n",
       "      <th>9</th>\n",
       "      <td>2</td>\n",
       "      <td>0.0925</td>\n",
       "      <td>0.0</td>\n",
       "      <td>2</td>\n",
       "      <td>0.0188</td>\n",
       "      <td>0.0</td>\n",
       "      <td>2</td>\n",
       "      <td>0.0109</td>\n",
       "      <td>0.0</td>\n",
       "      <td>1.2222</td>\n",
       "    </tr>\n",
       "    <tr>\n",
       "      <th>10</th>\n",
       "      <td>2</td>\n",
       "      <td>0.0925</td>\n",
       "      <td>0.0</td>\n",
       "      <td>3</td>\n",
       "      <td>-0.0129</td>\n",
       "      <td>0.0</td>\n",
       "      <td>1</td>\n",
       "      <td>0.0024</td>\n",
       "      <td>0.0</td>\n",
       "      <td>1.1820</td>\n",
       "    </tr>\n",
       "    <tr>\n",
       "      <th>11</th>\n",
       "      <td>2</td>\n",
       "      <td>0.0925</td>\n",
       "      <td>0.0</td>\n",
       "      <td>3</td>\n",
       "      <td>-0.0129</td>\n",
       "      <td>0.0</td>\n",
       "      <td>2</td>\n",
       "      <td>0.0089</td>\n",
       "      <td>0.0</td>\n",
       "      <td>1.1885</td>\n",
       "    </tr>\n",
       "  </tbody>\n",
       "</table>\n",
       "</div>"
      ],
      "text/plain": [
       "    level_batch-to-batch  devns_batch-to-batch  lvl_effects_batch-to-batch  \\\n",
       "0                      1                0.0178                         0.0   \n",
       "1                      1                0.0178                         0.0   \n",
       "2                      1                0.0178                         0.0   \n",
       "3                      1                0.0178                         0.0   \n",
       "4                      1                0.0178                         0.0   \n",
       "5                      1                0.0178                         0.0   \n",
       "6                      2                0.0925                         0.0   \n",
       "7                      2                0.0925                         0.0   \n",
       "8                      2                0.0925                         0.0   \n",
       "9                      2                0.0925                         0.0   \n",
       "10                     2                0.0925                         0.0   \n",
       "11                     2                0.0925                         0.0   \n",
       "\n",
       "    level_within batch  devns_within batch  lvl_effects_within batch  \\\n",
       "0                    1             -0.0007                       0.0   \n",
       "1                    1             -0.0007                       0.0   \n",
       "2                    2              0.0215                       0.0   \n",
       "3                    2              0.0215                       0.0   \n",
       "4                    3             -0.0479                       0.0   \n",
       "5                    3             -0.0479                       0.0   \n",
       "6                    1             -0.0073                       0.0   \n",
       "7                    1             -0.0073                       0.0   \n",
       "8                    2              0.0188                       0.0   \n",
       "9                    2              0.0188                       0.0   \n",
       "10                   3             -0.0129                       0.0   \n",
       "11                   3             -0.0129                       0.0   \n",
       "\n",
       "    level_lab  devns_lab  lvl_effects_lab  sim_meas  \n",
       "0           1     0.0237              0.0    1.1408  \n",
       "1           2     0.0008              0.0    1.1179  \n",
       "2           1     0.0523              0.0    1.1916  \n",
       "3           2     0.0297              0.0    1.1690  \n",
       "4           1     0.0269              0.0    1.0968  \n",
       "5           2     0.0017              0.0    1.0716  \n",
       "6           1    -0.0009              0.0    1.1843  \n",
       "7           2     0.0077              0.0    1.1929  \n",
       "8           1    -0.0103              0.0    1.2010  \n",
       "9           2     0.0109              0.0    1.2222  \n",
       "10          1     0.0024              0.0    1.1820  \n",
       "11          2     0.0089              0.0    1.1885  "
      ]
     },
     "execution_count": 4,
     "metadata": {},
     "output_type": "execute_result"
    }
   ],
   "source": [
    "expt = SyntheticData(10000, xbarbar=xbarbar, names=names, n_levels=n_levels, var_fracs=var_fracs, \\\n",
    "                 digits=sig_digits)\n",
    "expt.create_experiment_procedure()\n",
    "expt.df_expt"
   ]
  },
  {
   "cell_type": "markdown",
   "id": "96ad38aa-3eaf-4588-a4b4-c17c8133dd9b",
   "metadata": {},
   "source": [
    "## Simulated Experiment - With Mix of Specified Effects and Random Deviations\n"
   ]
  },
  {
   "cell_type": "markdown",
   "id": "fb0b9d6f-eb83-4ff6-9116-2f9e2b09c5e1",
   "metadata": {},
   "source": [
    "#### Define Degrees of Freedom for Measurement Variability"
   ]
  },
  {
   "cell_type": "code",
   "execution_count": 5,
   "id": "12ec9024-71a8-4f0b-960a-19aec550a834",
   "metadata": {},
   "outputs": [
    {
     "data": {
      "text/plain": [
       "(['batch-to-batch', 'within batch', 'lab'],\n",
       " {'batch-to-batch': 2, 'within batch': 3, 'lab': 2},\n",
       " {'batch-to-batch': 0.01, 'within batch': 0.005, 'lab': 0.02},\n",
       " {'batch-to-batch': ['Batch A', 'Batch B'],\n",
       "  'within batch': ['Top', 'Middle', 'Bottom']},\n",
       " {'batch-to-batch': [-0.08, 0.08], 'within batch': [-0.04, 0.0, 0.03]})"
      ]
     },
     "execution_count": 5,
     "metadata": {},
     "output_type": "execute_result"
    }
   ],
   "source": [
    "xbarbar = 1.10\n",
    "sig_digits = 4\n",
    "\n",
    "#Define degrees of freedom, their number of levels and their variability as fraction of mean\n",
    "names = ['batch-to-batch', 'within batch', 'lab']\n",
    "n_levels = dict(zip(names, [2, 3, 2]))\n",
    "var_fracs = dict(zip(names, [0.01, 0.005, 0.02]))\n",
    "\n",
    "#User-specified lvl_val names and deviations/effects (as frac of mean)\n",
    "lvl_val_names = {'batch-to-batch':['Batch A', 'Batch B'], 'within batch':['Top', 'Middle', 'Bottom']}\n",
    "lvl_val_effects = {'batch-to-batch':[-0.08, 0.08], 'within batch':[-0.04, 0.0, 0.03]}\n",
    "\n",
    "names, n_levels, var_fracs, lvl_val_names, lvl_val_effects"
   ]
  },
  {
   "cell_type": "code",
   "execution_count": 6,
   "id": "585f6ccd-5eaa-413f-bc5c-64be5338ed75",
   "metadata": {},
   "outputs": [
    {
     "ename": "NameError",
     "evalue": "name 'meas' is not defined",
     "output_type": "error",
     "traceback": [
      "\u001b[0;31m---------------------------------------------------------------------------\u001b[0m",
      "\u001b[0;31mNameError\u001b[0m                                 Traceback (most recent call last)",
      "\u001b[0;32m<ipython-input-6-1f2816c2c77a>\u001b[0m in \u001b[0;36m<module>\u001b[0;34m\u001b[0m\n\u001b[1;32m      1\u001b[0m qualn = SyntheticData(10000, xbarbar=xbarbar, names=names, n_levels=n_levels, var_fracs=var_fracs, \\\n\u001b[1;32m      2\u001b[0m             \u001b[0mlvl_val_names\u001b[0m\u001b[0;34m=\u001b[0m\u001b[0mlvl_val_names\u001b[0m\u001b[0;34m,\u001b[0m \u001b[0mlvl_val_effects\u001b[0m\u001b[0;34m=\u001b[0m\u001b[0mlvl_val_effects\u001b[0m\u001b[0;34m,\u001b[0m \u001b[0mdigits\u001b[0m\u001b[0;34m=\u001b[0m\u001b[0msig_digits\u001b[0m\u001b[0;34m,\u001b[0m\u001b[0;31m \u001b[0m\u001b[0;31m\\\u001b[0m\u001b[0;34m\u001b[0m\u001b[0;34m\u001b[0m\u001b[0m\n\u001b[0;32m----> 3\u001b[0;31m             meas_nm=meas)\n\u001b[0m",
      "\u001b[0;31mNameError\u001b[0m: name 'meas' is not defined"
     ]
    }
   ],
   "source": [
    "qualn = SyntheticData(10000, xbarbar=xbarbar, names=names, n_levels=n_levels, var_fracs=var_fracs, \\\n",
    "            lvl_val_names=lvl_val_names, lvl_val_effects=lvl_val_effects, digits=sig_digits)"
   ]
  },
  {
   "cell_type": "code",
   "execution_count": null,
   "id": "035edc19-de33-4527-bfea-fdb1d6e0881e",
   "metadata": {},
   "outputs": [],
   "source": [
    "qualn.create_experiment_procedure()\n",
    "qualn.df_expt"
   ]
  },
  {
   "cell_type": "code",
   "execution_count": null,
   "id": "dd3e610c-05b9-4d7e-b211-b53b94094aa8",
   "metadata": {},
   "outputs": [],
   "source": [
    "keep_cols = ['lvl_names_batch-to-batch', 'lvl_names_within batch', 'sim_meas']\n",
    "qualn.df_expt[keep_cols].to_excel('df_expt.xlsx', index=False)"
   ]
  },
  {
   "cell_type": "code",
   "execution_count": null,
   "id": "1c4165a6-7f3c-46f7-aebb-82f4043563c1",
   "metadata": {},
   "outputs": [],
   "source": []
  },
  {
   "cell_type": "markdown",
   "id": "f2bfc08e-7317-4277-ac1e-9a8e1e4e3897",
   "metadata": {},
   "source": [
    "* Should add a meas_name attribute and use that as the measurement column name instead of 'sim_name'\n",
    "* Instead of lvl_names prefix (e.g. lvl_names_batch-to-batch) should just name those columns with dof name (e.g. 'batch-to-batch')"
   ]
  }
 ],
 "metadata": {
  "kernelspec": {
   "display_name": "Python 3",
   "language": "python",
   "name": "python3"
  },
  "language_info": {
   "codemirror_mode": {
    "name": "ipython",
    "version": 3
   },
   "file_extension": ".py",
   "mimetype": "text/x-python",
   "name": "python",
   "nbconvert_exporter": "python",
   "pygments_lexer": "ipython3",
   "version": "3.8.8"
  }
 },
 "nbformat": 4,
 "nbformat_minor": 5
}
